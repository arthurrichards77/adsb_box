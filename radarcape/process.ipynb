{
 "cells": [
  {
   "cell_type": "code",
   "execution_count": 2,
   "metadata": {},
   "outputs": [],
   "source": [
    "import pandas as pd"
   ]
  },
  {
   "cell_type": "code",
   "execution_count": 7,
   "metadata": {},
   "outputs": [
    {
     "data": {
      "text/html": [
       "<div>\n",
       "<style scoped>\n",
       "    .dataframe tbody tr th:only-of-type {\n",
       "        vertical-align: middle;\n",
       "    }\n",
       "\n",
       "    .dataframe tbody tr th {\n",
       "        vertical-align: top;\n",
       "    }\n",
       "\n",
       "    .dataframe thead th {\n",
       "        text-align: right;\n",
       "    }\n",
       "</style>\n",
       "<table border=\"1\" class=\"dataframe\">\n",
       "  <thead>\n",
       "    <tr style=\"text-align: right;\">\n",
       "      <th></th>\n",
       "      <th>0</th>\n",
       "      <th>1</th>\n",
       "      <th>2</th>\n",
       "      <th>3</th>\n",
       "      <th>4</th>\n",
       "      <th>5</th>\n",
       "      <th>6</th>\n",
       "    </tr>\n",
       "  </thead>\n",
       "  <tbody>\n",
       "    <tr>\n",
       "      <th>0</th>\n",
       "      <td>4CAFB3</td>\n",
       "      <td>2023/7/3</td>\n",
       "      <td>19:39:58.802</td>\n",
       "      <td>27000</td>\n",
       "      <td>53.26181</td>\n",
       "      <td>-4.89273</td>\n",
       "      <td>RYR16BZ</td>\n",
       "    </tr>\n",
       "    <tr>\n",
       "      <th>1</th>\n",
       "      <td>4CADF7</td>\n",
       "      <td>2023/7/3</td>\n",
       "      <td>19:39:58.951</td>\n",
       "      <td>31950</td>\n",
       "      <td>52.02408</td>\n",
       "      <td>-5.12277</td>\n",
       "      <td>RYR365A</td>\n",
       "    </tr>\n",
       "    <tr>\n",
       "      <th>2</th>\n",
       "      <td>4CA802</td>\n",
       "      <td>2023/7/3</td>\n",
       "      <td>19:39:59.021</td>\n",
       "      <td>31000</td>\n",
       "      <td>53.40459</td>\n",
       "      <td>-3.71533</td>\n",
       "      <td>RYR3BB</td>\n",
       "    </tr>\n",
       "    <tr>\n",
       "      <th>3</th>\n",
       "      <td>AA5428</td>\n",
       "      <td>2023/7/3</td>\n",
       "      <td>19:39:59.118</td>\n",
       "      <td>34000</td>\n",
       "      <td>52.42546</td>\n",
       "      <td>-4.90500</td>\n",
       "      <td>AAL141</td>\n",
       "    </tr>\n",
       "    <tr>\n",
       "      <th>4</th>\n",
       "      <td>407A3E</td>\n",
       "      <td>2023/7/3</td>\n",
       "      <td>19:39:59.196</td>\n",
       "      <td>39025</td>\n",
       "      <td>53.51550</td>\n",
       "      <td>-5.06155</td>\n",
       "      <td>AWC515W</td>\n",
       "    </tr>\n",
       "  </tbody>\n",
       "</table>\n",
       "</div>"
      ],
      "text/plain": [
       "        0         1             2      3         4        5        6\n",
       "0  4CAFB3  2023/7/3  19:39:58.802  27000  53.26181 -4.89273  RYR16BZ\n",
       "1  4CADF7  2023/7/3  19:39:58.951  31950  52.02408 -5.12277  RYR365A\n",
       "2  4CA802  2023/7/3  19:39:59.021  31000  53.40459 -3.71533   RYR3BB\n",
       "3  AA5428  2023/7/3  19:39:59.118  34000  52.42546 -4.90500   AAL141\n",
       "4  407A3E  2023/7/3  19:39:59.196  39025  53.51550 -5.06155  AWC515W"
      ]
     },
     "execution_count": 7,
     "metadata": {},
     "output_type": "execute_result"
    }
   ],
   "source": [
    "raw_adsb = pd.read_csv('data_2023_7_3_20_39_57.csv',header=None)\n",
    "raw_adsb.head()"
   ]
  },
  {
   "cell_type": "code",
   "execution_count": 8,
   "metadata": {},
   "outputs": [
    {
     "data": {
      "text/plain": [
       "{'343385',\n",
       " '406753',\n",
       " '406F78',\n",
       " '40739A',\n",
       " '40799C',\n",
       " '407A3E',\n",
       " '4CA802',\n",
       " '4CA80C',\n",
       " '4CAD9F',\n",
       " '4CADF7',\n",
       " '4CAFB3',\n",
       " '4CAFC4',\n",
       " 'A12D2F',\n",
       " 'A788FD',\n",
       " 'AA5428'}"
      ]
     },
     "execution_count": 8,
     "metadata": {},
     "output_type": "execute_result"
    }
   ],
   "source": [
    "hex_ids = set(raw_adsb[0])\n",
    "hex_ids"
   ]
  }
 ],
 "metadata": {
  "kernelspec": {
   "display_name": "Python 3.6.9 64-bit",
   "language": "python",
   "name": "python3"
  },
  "language_info": {
   "codemirror_mode": {
    "name": "ipython",
    "version": 3
   },
   "file_extension": ".py",
   "mimetype": "text/x-python",
   "name": "python",
   "nbconvert_exporter": "python",
   "pygments_lexer": "ipython3",
   "version": "3.6.9"
  },
  "orig_nbformat": 4,
  "vscode": {
   "interpreter": {
    "hash": "31f2aee4e71d21fbe5cf8b01ff0e069b9275f58929596ceb00d14d90e3e16cd6"
   }
  }
 },
 "nbformat": 4,
 "nbformat_minor": 2
}
